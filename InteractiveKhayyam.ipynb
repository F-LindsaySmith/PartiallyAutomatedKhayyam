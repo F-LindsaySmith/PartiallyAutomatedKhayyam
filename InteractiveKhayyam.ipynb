{
 "cells": [
  {
   "cell_type": "code",
   "execution_count": 3,
   "metadata": {},
   "outputs": [
    {
     "name": "stdout",
     "output_type": "stream",
     "text": [
      "Method to find cubic roots in the style of Omar Khayyam for the equation x^3 + bx = c\n",
      "Enter your b value: 23\n",
      "Enter your c value: 45\n"
     ]
    },
    {
     "data": {
      "image/png": "[encoded data removed]",
      "text/plain": [
       "<Figure size 432x288 with 1 Axes>"
      ]
     },
     "metadata": {
      "needs_background": "light"
     },
     "output_type": "display_data"
    },
    {
     "name": "stdout",
     "output_type": "stream",
     "text": [
      "Enter your estimate for the intersection point: 3\n",
      "1.731009350331986\n"
     ]
    }
   ],
   "source": [
    "import math\n",
    "import sympy as sym\n",
    "import sys\n",
    "from sympy import *\n",
    "from sympy import sympify\n",
    "from spb import plot_implicit\n",
    "\n",
    "\n",
    "\n",
    "# Define the function\n",
    "def f(b, c, x):\n",
    "    return (x**4)/b + x**2 - (c/b)*x\n",
    "\n",
    "# Now declare its derivative\n",
    "def df(b, c, x):\n",
    "    return 4*(x**3)/b + 2*x - c/b\n",
    "\n",
    "# plot the two curves with sympy\n",
    "def plot_solution(b,c):\n",
    "    # declare x and y as symbolic\n",
    "    x, y = symbols('x y')\n",
    "    f = sym.Eq(x**2/math.sqrt(b),y)\n",
    "    # semicircle equation\n",
    "    g = sym.Eq(b*x**2 + b*y**2, c*x)\n",
    "    # plot the three equations where the intersection will be in the centre of the plot\n",
    "    plot_implicit(f, g, xlim=[0,10], ylim=[0,10])\n",
    "\n",
    "# function to carry out newton raphson approximation\n",
    "def newtonRaphson(x0,e,N):\n",
    "    # Seperate calculation from taking of inputs for readability\n",
    "    step = 1\n",
    "    flag = 1\n",
    "    errorcondition = True\n",
    "    while errorcondition:\n",
    "        # set x1 equal to the error of the first guess\n",
    "        x1 = x0 - f(b, c, x0)/df(b, c, x0)\n",
    "        # set x1 equal to x0 for the next iteration\n",
    "        x0 = x1\n",
    "        # Begin next iteration\n",
    "        step = step + 1\n",
    "        \n",
    "        # Make sure the number of steps does not exceed N (maximum declared by user)\n",
    "        if step > MaxStep:\n",
    "            flag = 0\n",
    "            break\n",
    "        #check if condition is still true ie. if the current error is still larger than the allowed error\n",
    "        errorcondition = abs(f(b, c, x1)) > allowederror\n",
    "        \n",
    "    # if error condition is met\n",
    "    if flag==1:\n",
    "        # print the root found\n",
    "        print(x1)\n",
    "    else:\n",
    "        print('\\nNot Convergent in the steps given.')\n",
    "   \n",
    "#title of script\n",
    "print('Method to find cubic roots in the style of Omar Khayyam for the equation x^3 + bx = c')\n",
    "\n",
    "#initialise variables from user input\n",
    "b = float(input('Enter your b value: '))\n",
    "c = float(input('Enter your c value: '))\n",
    "\n",
    "# plot the two curves\n",
    "plot_solution(b, c)\n",
    "\n",
    "# get user to estimate the point of intersection\n",
    "guess = float(input('Enter your estimate for the intersection point: '))\n",
    "\n",
    "#initialise components for newton raphson\n",
    "allowederror = 0.000000001\n",
    "MaxStep = 50\n",
    "\n",
    "# print true root from newton raphson using user guess as initial estimate\n",
    "trueroot = newtonRaphson(guess,allowederror,MaxStep)"
   ]
  },
  {
   "cell_type": "code",
   "execution_count": null,
   "metadata": {},
   "outputs": [],
   "source": []
  },
  {
   "cell_type": "code",
   "execution_count": null,
   "metadata": {},
   "outputs": [],
   "source": []
  }
 ],
 "metadata": {
  "kernelspec": {
   "display_name": "Python 3",
   "language": "python",
   "name": "python3"
  },
  "language_info": {
   "codemirror_mode": {
    "name": "ipython",
    "version": 3
   },
   "file_extension": ".py",
   "mimetype": "text/x-python",
   "name": "python",
   "nbconvert_exporter": "python",
   "pygments_lexer": "ipython3",
   "version": "3.7.4"
  }
 },
 "nbformat": 4,
 "nbformat_minor": 2
}
